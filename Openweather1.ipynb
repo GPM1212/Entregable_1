import datetime
import json
import urllib.request

def time_converter(time):
    converted_time = datetime.datetime.fromtimestamp(
        int(time)
    ).strftime('%I:%M %p')
    return converted_time

def url_builder1(city):
    user_api = '38f402baf83e03c5b1b623884e366790'  # Obtain yours form: http://openweathermap.org/
    unit = 'metric'  # For Fahrenheit use imperial, for Celsius use metric, and the default is Kelvin.
    api = 'http://api.openweathermap.org/data/2.5/weather?q='     # Search for your city ID here: http://bulk.openweathermap.org/sample/city.list.json.gz
    full_api_url = api + str(city) + '&mode=json&units=' + unit + '&APPID=' + user_api
    print(full_api_url)
    return full_api_url

def data_fetch(full_api_url):
    url = urllib.request.urlopen(full_api_url)
    output = url.read().decode('utf-8')
    raw_api_dict = json.loads(output)
    url.close()
    #print(raw_api_dict)
    return raw_api_dict

if __name__ == '__main__':
    try:
        now=datetime.datetime.now()
        datos=data_fetch(url_builder1('Alicante,ES'))
        print(datos)
        print(now)
        for key in datos['main']:
          print(key, ":", datos['main'][key])
        for key in datos['wind']:
          print(key, ":", datos['wind'][key])
        for key in datos['clouds']:
          print(key, ":", datos['clouds'][key])
        for key in datos['sys']:
          print(key, ":", datos['sys'][key])
        print(time_converter(1612681284))
        print(time_converter(datos['sys']['sunrise']))
        print(time_converter(datos['sys']['sunset']))
    except IOError:
        print('error')

